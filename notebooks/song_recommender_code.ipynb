{
 "cells": [
  {
   "cell_type": "code",
   "execution_count": 1,
   "id": "77dd331f",
   "metadata": {},
   "outputs": [
    {
     "name": "stdout",
     "output_type": "stream",
     "text": [
      "C:\\Users\\guill\\OneDrive\\Escritorio\\Ironhack\\week-6\\music_project\\Gnod_project_week6\n"
     ]
    }
   ],
   "source": [
    "%cd ../"
   ]
  },
  {
   "cell_type": "code",
   "execution_count": 2,
   "id": "3c5621f3",
   "metadata": {},
   "outputs": [],
   "source": [
    "import pandas as pd\n",
    "import numpy as np\n",
    "from sklearn.preprocessing import StandardScaler\n",
    "from sklearn.cluster import KMeans\n",
    "from sklearn.metrics import silhouette_score\n",
    "import pickle\n",
    "import lib.functions as f\n",
    "from spotipy.oauth2 import SpotifyClientCredentials\n",
    "import sys\n",
    "import spotipy\n",
    "from time import sleep\n",
    "from random import randint\n",
    "from config import *\n",
    "import random"
   ]
  },
  {
   "cell_type": "code",
   "execution_count": 3,
   "id": "38822cfe",
   "metadata": {},
   "outputs": [],
   "source": [
    "sp = spotipy.Spotify(auth_manager=SpotifyClientCredentials(client_id= client_id,\n",
    "                                                           client_secret= client_secret))\n"
   ]
  },
  {
   "cell_type": "code",
   "execution_count": null,
   "id": "4d251cf2",
   "metadata": {},
   "outputs": [],
   "source": [
    "def song_recommender(songs, artists):\n",
    "    sp = spotipy.Spotify(auth_manager=SpotifyClientCredentials(client_id= client_id,\n",
    "                                                           client_secret= client_secret))\n",
    "    try:\n",
    "        ids = f.search_song(sp, songs, artists)\n",
    "        data = f.get_audio_features(sp, ids)\n",
    "        data = data.drop([\"key\", \"mode\", \"type\", \"id\", \"uri\", \"track_href\", \"analysis_url\", \"time_signature\"], axis = 1)\n",
    "        scaler = f.load(\"./transformer/scaler.pickle\")\n",
    "        data_norm = scaler.transform(data)\n",
    "        kmeans_9 = f.load(\"./models/kmeans_9.pickle\")\n",
    "        cluster = kmeans_9.predict(data_norm)\n",
    "        songs_final = pd.read_csv('./data/songs_with_clusters.csv')\n",
    "        hot = list(songs_final[songs_final[\"song_label\"] == \"H\"][\"id\"])\n",
    "        not_hot = list(songs_final[songs_final[\"song_label\"] == \"R\"][\"id\"])\n",
    "        if ids in hot:\n",
    "            x = songs_final[(songs_final[\"clusters_kmeans\"] == cluster[0]) & (songs_final[\"song_label\"] == \"H\")]\n",
    "            x = x[x[\"id\"] != ids[0]]\n",
    "            recommended_song = x.sample(n=1)\n",
    "            return print(\"Recommended song for user: \", list(recommended_song[[\"song\", \"artist\"]].iloc[0])[0],\"/ Song artist: \", list(recommended_song[[\"song\", \"artist\"]].iloc[0])[1])\n",
    "        else:\n",
    "            y = songs_final[(songs_final[\"clusters_kmeans\"] == cluster[0]) & (songs_final[\"song_label\"] == \"H\")]\n",
    "            y = y[y[\"id\"] != ids[0]]\n",
    "            recommended_song2 = y.sample(n=1, replace = False)\n",
    "            return print(\"Recommended song for user: \", list(recommended_song2[[\"song\", \"artist\"]].iloc[0])[0],\"/ Song artist: \", list(recommended_song2[[\"song\", \"artist\"]].iloc[0])[1], \"link to song: \", list(recommended_song2[\"id\"].iloc[0])[1])                             \n",
    "    except:\n",
    "        return \"Song or artist not found\"\n"
   ]
  },
  {
   "cell_type": "code",
   "execution_count": null,
   "id": "7ce9bddc",
   "metadata": {},
   "outputs": [],
   "source": [
    "songs = [input(\"Enter a song: \")]\n",
    "artists = [input(\"Enter the song's artist: \")]"
   ]
  },
  {
   "cell_type": "code",
   "execution_count": null,
   "id": "aa2f0a1d",
   "metadata": {},
   "outputs": [],
   "source": [
    "song_recommender(songs, artists)"
   ]
  },
  {
   "cell_type": "code",
   "execution_count": 4,
   "id": "88cf0e33",
   "metadata": {},
   "outputs": [
    {
     "ename": "NameError",
     "evalue": "name 'song' is not defined",
     "output_type": "error",
     "traceback": [
      "\u001b[1;31m---------------------------------------------------------------------------\u001b[0m",
      "\u001b[1;31mNameError\u001b[0m                                 Traceback (most recent call last)",
      "Input \u001b[1;32mIn [4]\u001b[0m, in \u001b[0;36m<cell line: 1>\u001b[1;34m()\u001b[0m\n\u001b[1;32m----> 1\u001b[0m \u001b[43msong\u001b[49m[\u001b[38;5;124m'\u001b[39m\u001b[38;5;124mid\u001b[39m\u001b[38;5;124m'\u001b[39m]\n",
      "\u001b[1;31mNameError\u001b[0m: name 'song' is not defined"
     ]
    }
   ],
   "source": [
    "song['id']"
   ]
  }
 ],
 "metadata": {
  "kernelspec": {
   "display_name": "Python 3 (ipykernel)",
   "language": "python",
   "name": "python3"
  },
  "language_info": {
   "codemirror_mode": {
    "name": "ipython",
    "version": 3
   },
   "file_extension": ".py",
   "mimetype": "text/x-python",
   "name": "python",
   "nbconvert_exporter": "python",
   "pygments_lexer": "ipython3",
   "version": "3.9.12"
  }
 },
 "nbformat": 4,
 "nbformat_minor": 5
}
